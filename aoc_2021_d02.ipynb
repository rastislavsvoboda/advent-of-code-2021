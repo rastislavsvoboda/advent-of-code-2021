{
 "cells": [
  {
   "cell_type": "code",
   "execution_count": null,
   "metadata": {
    "dotnet_interactive": {
     "language": "csharp"
    }
   },
   "outputs": [
    {
     "name": "stdout",
     "output_type": "stream",
     "text": [
      "1488669\r\n",
      "1176514794\r\n"
     ]
    }
   ],
   "source": [
    "using static System.Console;\n",
    "using static System.IO.File;\n",
    "\n",
    "var lines = ReadAllLines(\"2.in\");\n",
    "// lines = ReadAllLines(\"2.ex1\");\n",
    "\n",
    "\n",
    "record Entry(string Command, int Units);\n",
    "\n",
    "var entries = lines.Select(line => \n",
    "    {\n",
    "        var parts = line.Split(' ');\n",
    "        return new Entry(parts[0], int.Parse(parts[1]));\n",
    "    });\n",
    "    \n",
    "\n",
    "// --- part 1 ---\n",
    "record State1(int HPos, int Depth);\n",
    "\n",
    "var state1 = entries.Aggregate(\n",
    "    new State1(0, 0), \n",
    "    (acc, e) => e.Command switch\n",
    "        {\n",
    "            \"down\" => acc with { Depth = acc.Depth + e.Units },\n",
    "            \"up\" => acc with { Depth = acc.Depth - e.Units },\n",
    "            \"forward\" => acc with { HPos = acc.HPos + e.Units },\n",
    "            _ => throw new Exception(\"Unknown command\")\n",
    "        }\n",
    "    );\n",
    "\n",
    "WriteLine(state1.HPos * state1.Depth);\n",
    "\n",
    "// --- part 2 ---\n",
    "record State2(int HPos, int Depth, int Aim);\n",
    "\n",
    "var state2 = entries.Aggregate(\n",
    "    new State2(0, 0, 0),\n",
    "    (acc, e) => e.Command switch\n",
    "        {\n",
    "            \"down\" => acc with { Aim = acc.Aim + e.Units },\n",
    "            \"up\" => acc with { Aim = acc.Aim - e.Units },\n",
    "            \"forward\" => acc with { HPos = acc.HPos + e.Units, Depth = acc.Depth + acc.Aim * e.Units },\n",
    "            _ => throw new Exception(\"Unknown command\")\n",
    "        }\n",
    "    );\n",
    "\n",
    "WriteLine(state2.HPos * state2.Depth);\n"
   ]
  }
 ],
 "metadata": {
  "kernelspec": {
   "display_name": ".NET (C#)",
   "language": "C#",
   "name": ".net-csharp"
  },
  "language_info": {
   "file_extension": ".cs",
   "mimetype": "text/x-csharp",
   "name": "C#",
   "pygments_lexer": "csharp",
   "version": "9.0"
  },
  "orig_nbformat": 4
 },
 "nbformat": 4,
 "nbformat_minor": 2
}
