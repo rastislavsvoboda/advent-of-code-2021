{
 "cells": [
  {
   "cell_type": "code",
   "execution_count": null,
   "metadata": {
    "dotnet_interactive": {
     "language": "csharp"
    }
   },
   "outputs": [],
   "source": [
    "using static System.Console;\n",
    "using static System.IO.File;\n",
    "\n",
    "var lines = ReadAllLines(\"1.in\");\n",
    "// lines = ReadAllLines(\"1.in0\");\n",
    "\n",
    "var nums = lines.Select(int.Parse);"
   ]
  },
  {
   "cell_type": "markdown",
   "metadata": {},
   "source": [
    "### part 1"
   ]
  },
  {
   "cell_type": "code",
   "execution_count": null,
   "metadata": {
    "dotnet_interactive": {
     "language": "csharp"
    }
   },
   "outputs": [
    {
     "name": "stdout",
     "output_type": "stream",
     "text": [
      "1393\r\n"
     ]
    }
   ],
   "source": [
    "var pairs1 = nums.Zip(nums.Skip(1));\n",
    "var count = pairs1.Count(p => p.First< p.Second);\n",
    "WriteLine(count);"
   ]
  },
  {
   "cell_type": "markdown",
   "metadata": {},
   "source": [
    "### part 2"
   ]
  },
  {
   "cell_type": "code",
   "execution_count": null,
   "metadata": {
    "dotnet_interactive": {
     "language": "csharp"
    }
   },
   "outputs": [
    {
     "name": "stdout",
     "output_type": "stream",
     "text": [
      "1359\r\n"
     ]
    }
   ],
   "source": [
    "var pairs2 = nums.Zip(nums.Skip(3));\n",
    "var count = pairs2.Count(p => p.First< p.Second);\n",
    "WriteLine(count);"
   ]
  }
 ],
 "metadata": {
  "kernelspec": {
   "display_name": ".NET (C#)",
   "language": "C#",
   "name": ".net-csharp"
  },
  "language_info": {
   "file_extension": ".cs",
   "mimetype": "text/x-csharp",
   "name": "C#",
   "pygments_lexer": "csharp",
   "version": "9.0"
  },
  "orig_nbformat": 4
 },
 "nbformat": 4,
 "nbformat_minor": 2
}
