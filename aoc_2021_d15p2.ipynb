{
 "cells": [
  {
   "cell_type": "code",
   "execution_count": 26,
   "metadata": {},
   "outputs": [
    {
     "name": "stdout",
     "output_type": "stream",
     "text": [
      "3022\n"
     ]
    }
   ],
   "source": [
    "from datetime import datetime\n",
    "from collections import defaultdict, deque, Counter\n",
    "import copy\n",
    "import re\n",
    "\n",
    "# from heapq import heapify, heappush, heappopv\n",
    "import heapq\n",
    "\n",
    "# pypy3.exe .\\save.py 15\n",
    "\n",
    "start = datetime.now()\n",
    "lines = open('15.in').readlines()\n",
    "# lines = open('15.ex1').readlines()\n",
    "\n",
    "M = []\n",
    "for line in lines:\n",
    "    line = line.strip()\n",
    "    # print(line)\n",
    "    M.append([int(c) for i, c in enumerate(line)])\n",
    "\n",
    "# print(M)\n",
    "\n",
    "st = (0, 0)\n",
    "heap = []\n",
    "\n",
    "heapq.heappush(heap, (0, 0, 0))\n",
    "\n",
    "DR = [-1, 0, 1, 0]\n",
    "DC = [0, 1, 0, -1]\n",
    "R = len(M)\n",
    "C = len(M[0])\n",
    "\n",
    "RT = R * 5\n",
    "CT = C * 5\n",
    "\n",
    "\n",
    "def risk1(r, c):\n",
    "    return M[r][c]\n",
    "\n",
    "\n",
    "def risk2(rr, cc):\n",
    "    newRisk = M[rr % R][cc % C] + rr // R + cc // C\n",
    "    if newRisk > 9:\n",
    "        newRisk -= 9\n",
    "    return newRisk\n",
    "\n",
    "\n",
    "seen = set()\n",
    "res = None\n",
    "while len(heap):\n",
    "    risk, r, c = heapq.heappop(heap)\n",
    "    if (r, c) in seen:\n",
    "        continue\n",
    "    seen.add((r, c))\n",
    "\n",
    "    if r == RT-1 and c == CT-1:\n",
    "        res = risk\n",
    "        break\n",
    "\n",
    "    for i in range(4):\n",
    "        rr = r + DR[i]\n",
    "        cc = c + DC[i]\n",
    "        if rr < 0 or rr >= RT or cc < 0 or cc >= CT:\n",
    "            continue\n",
    "        heapq.heappush(heap, (risk+risk2(rr, cc), rr, cc))\n",
    "\n",
    "\n",
    "# for r in range(RT):\n",
    "#     for c in range(CT):\n",
    "#         print(risk2(r,c), end='')\n",
    "#     print()\n",
    "\n",
    "print(res)\n"
   ]
  }
 ],
 "metadata": {
  "interpreter": {
   "hash": "63fd5069d213b44bf678585dea6b12cceca9941eaf7f819626cde1f2670de90d"
  },
  "kernelspec": {
   "display_name": "Python 3.9.7 64-bit",
   "language": "python",
   "name": "python3"
  },
  "language_info": {
   "codemirror_mode": {
    "name": "ipython",
    "version": 3
   },
   "file_extension": ".py",
   "mimetype": "text/x-python",
   "name": "python",
   "nbconvert_exporter": "python",
   "pygments_lexer": "ipython3",
   "version": "3.9.7"
  },
  "orig_nbformat": 4
 },
 "nbformat": 4,
 "nbformat_minor": 2
}
