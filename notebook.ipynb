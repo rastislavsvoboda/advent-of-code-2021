{
 "cells": [
  {
   "cell_type": "code",
   "execution_count": null,
   "metadata": {
    "dotnet_interactive": {
     "language": "csharp"
    }
   },
   "outputs": [
    {
     "name": "stdout",
     "output_type": "stream",
     "text": [
      ">\r\n",
      "=\r\n",
      "<\r\n",
      "=\r\n",
      "<\r\n"
     ]
    }
   ],
   "source": [
    "var data=@\"5\n",
    "2 1\n",
    "19 0\n",
    "10 2\n",
    "100 1\n",
    "1999 0\n",
    "2 3\n",
    "1 0\n",
    "1 0\n",
    "99 0\n",
    "1 2\";\n",
    "\n",
    "var lines = data.Split(\"\\n\");\n",
    "var n = int.Parse(lines[0]);\n",
    "// Console.WriteLine(n);\n",
    "\n",
    "int ToNumber(string s)\n",
    "{\n",
    "    var e = s.Split(\" \");\n",
    "    var n = int.Parse(e[0] + new string('0', int.Parse(e[1])));\n",
    "    return n;    \n",
    "}\n",
    "\n",
    "for(int i = 1; i<= n; i++)\n",
    "{\n",
    "    var n1 = ToNumber(lines[(2*i)-1]);\n",
    "    var n2 = ToNumber(lines[2*i]);\n",
    "\n",
    "    Console.WriteLine(n1 < n2 ? \"<\" : (n1 > n2 ? \">\" : \"=\"));\n",
    "}"
   ]
  }
 ],
 "metadata": {
  "kernelspec": {
   "display_name": ".NET (C#)",
   "language": "C#",
   "name": ".net-csharp"
  },
  "language_info": {
   "file_extension": ".cs",
   "mimetype": "text/x-csharp",
   "name": "C#",
   "pygments_lexer": "csharp",
   "version": "9.0"
  },
  "orig_nbformat": 4
 },
 "nbformat": 4,
 "nbformat_minor": 2
}
