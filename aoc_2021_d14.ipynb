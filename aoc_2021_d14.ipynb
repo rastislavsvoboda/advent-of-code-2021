{
 "cells": [
  {
   "cell_type": "code",
   "execution_count": 11,
   "metadata": {},
   "outputs": [
    {
     "name": "stdout",
     "output_type": "stream",
     "text": [
      "part 1\n",
      "1588\n",
      "part 2\n",
      "2188189693529\n"
     ]
    }
   ],
   "source": [
    "from collections import Counter\n",
    "\n",
    "# pypy3.exe .\\save.py 14\n",
    "\n",
    "lines = open('14.in').readlines()\n",
    "lines = open('14.ex1').readlines()\n",
    "# lines = open('14.ex2').readlines()\n",
    "\n",
    "template = lines[0].strip()\n",
    "# print(template)\n",
    "\n",
    "data = {}\n",
    "for line in lines[2:]:\n",
    "    x, y = line.strip().split(' -> ')\n",
    "    data[x] = y\n",
    "# print(data)\n",
    "\n",
    "\n",
    "def step1(template):\n",
    "    new_template = [template[0]]\n",
    "    for (a, b) in zip(template, template[1:]):\n",
    "        new_template.append(data[a+b])\n",
    "        new_template.append(b)\n",
    "    return new_template\n",
    "\n",
    "\n",
    "temp1 = template\n",
    "for s in range(10):\n",
    "    temp1 = step1(temp1)\n",
    "    # print(f\"After step {s+1}\", \"\".join(temp1))\n",
    "\n",
    "C = Counter(temp1)\n",
    "minC = min(C.values())\n",
    "maxC = max(C.values())\n",
    "print(\"part 1\")\n",
    "print(maxC-minC)\n",
    "\n",
    "\n",
    "def step2(counter):\n",
    "    new_counter = Counter()\n",
    "    for c in counter:\n",
    "        # when XY -> Z\n",
    "        # for each XY, there are 2 new pairs: XZ, ZY\n",
    "        new_counter[c[0] + data[c]] += counter[c]\n",
    "        new_counter[data[c] + c[1]] += counter[c]\n",
    "    return new_counter\n",
    "\n",
    "\n",
    "temp2 = template\n",
    "C = Counter([temp2[i:i+2] for i in range(len(temp2)-1)])\n",
    "\n",
    "for s in range(40):\n",
    "    C = step2(C)\n",
    "    # print(f\"After step {s+1}\", C)\n",
    "\n",
    "counter = Counter()\n",
    "for c in C:\n",
    "    counter[c[0]] += C[c]\n",
    "counter[template[-1]] += 1\n",
    "minC = min(counter.values())\n",
    "maxC = max(counter.values())\n",
    "print(\"part 2\")\n",
    "print(maxC-minC)"
   ]
  }
 ],
 "metadata": {
  "interpreter": {
   "hash": "63fd5069d213b44bf678585dea6b12cceca9941eaf7f819626cde1f2670de90d"
  },
  "kernelspec": {
   "display_name": "Python 3.9.7 64-bit",
   "language": "python",
   "name": "python3"
  },
  "language_info": {
   "codemirror_mode": {
    "name": "ipython",
    "version": 3
   },
   "file_extension": ".py",
   "mimetype": "text/x-python",
   "name": "python",
   "nbconvert_exporter": "python",
   "pygments_lexer": "ipython3",
   "version": "3.9.7"
  },
  "orig_nbformat": 4
 },
 "nbformat": 4,
 "nbformat_minor": 2
}
