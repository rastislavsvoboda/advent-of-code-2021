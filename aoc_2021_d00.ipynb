{
 "cells": [
  {
   "cell_type": "code",
   "execution_count": null,
   "metadata": {},
   "outputs": [],
   "source": [
    "from datetime import datetime\n",
    "from collections import defaultdict, deque, Counter\n",
    "import copy\n",
    "import re\n",
    "\n",
    "# pypy3.exe .\\save.py 0\n",
    "\n",
    "start = datetime.now()\n",
    "lines = open('0.in').readlines()\n",
    "lines = open('0.ex1').readlines()\n",
    "\n"
   ]
  }
 ],
 "metadata": {
  "language_info": {
   "name": "python"
  },
  "orig_nbformat": 4
 },
 "nbformat": 4,
 "nbformat_minor": 2
}
