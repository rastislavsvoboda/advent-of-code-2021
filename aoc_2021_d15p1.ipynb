{
 "cells": [
  {
   "cell_type": "code",
   "execution_count": 4,
   "metadata": {},
   "outputs": [
    {
     "name": "stdout",
     "output_type": "stream",
     "text": [
      "[698]\n",
      "698\n"
     ]
    }
   ],
   "source": [
    "from datetime import datetime\n",
    "from collections import defaultdict, deque, Counter\n",
    "import copy\n",
    "import re\n",
    "\n",
    "# from heapq import heapify, heappush, heappopv\n",
    "import heapq\n",
    "\n",
    "# pypy3.exe .\\save.py 15\n",
    "\n",
    "start = datetime.now()\n",
    "lines = open('15.in').readlines()\n",
    "# lines = open('15.ex1').readlines()\n",
    "\n",
    "M=[]\n",
    "for line in lines:\n",
    "    line = line.strip()\n",
    "    # print(line)\n",
    "    M.append([int(c) for i,c in enumerate(line)])\n",
    "\n",
    "# print(M)\n",
    "\n",
    "st = (0,0)\n",
    "heap = []\n",
    "\n",
    "heapq.heappush(heap, (0, 0, 0))\n",
    "\n",
    "DR = [-1,0,1,0]\n",
    "DC = [0,1,0,-1]\n",
    "R = len(M)\n",
    "C = len(M[0])\n",
    "seen=set()\n",
    "S=[]\n",
    "while len(heap):\n",
    "    risk,r,c = heapq.heappop(heap)\n",
    "    if (r,c) in seen:  \n",
    "        continue\n",
    "    seen.add((r,c))\n",
    "    # print(len(Q))\n",
    "\n",
    "    if r==R-1 and c == C-1:\n",
    "        S.append(risk)\n",
    "        break\n",
    "\n",
    "    for i in range(4):\n",
    "        rr = r + DR[i]\n",
    "        cc = c + DC[i]\n",
    "        if rr<0 or rr>=R or cc<0 or cc>=C:\n",
    "            continue\n",
    "        # Q.append((risk+M[rr][cc],(rr,cc)))\n",
    "        heapq.heappush(heap, (risk+M[rr][cc], rr,cc))\n",
    "\n",
    "\n",
    "\n",
    "S.sort()\n",
    "print(S)\n",
    "print(S[0])\n"
   ]
  }
 ],
 "metadata": {
  "interpreter": {
   "hash": "63fd5069d213b44bf678585dea6b12cceca9941eaf7f819626cde1f2670de90d"
  },
  "kernelspec": {
   "display_name": "Python 3.9.7 64-bit",
   "language": "python",
   "name": "python3"
  },
  "language_info": {
   "codemirror_mode": {
    "name": "ipython",
    "version": 3
   },
   "file_extension": ".py",
   "mimetype": "text/x-python",
   "name": "python",
   "nbconvert_exporter": "python",
   "pygments_lexer": "ipython3",
   "version": "3.9.7"
  },
  "orig_nbformat": 4
 },
 "nbformat": 4,
 "nbformat_minor": 2
}
